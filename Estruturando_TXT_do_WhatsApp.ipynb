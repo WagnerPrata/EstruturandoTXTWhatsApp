{
  "nbformat": 4,
  "nbformat_minor": 0,
  "metadata": {
    "colab": {
      "provenance": [],
      "authorship_tag": "ABX9TyNMplnUqOIhen7zWZUiGRwk",
      "include_colab_link": true
    },
    "kernelspec": {
      "name": "python3",
      "display_name": "Python 3"
    },
    "language_info": {
      "name": "python"
    }
  },
  "cells": [
    {
      "cell_type": "markdown",
      "metadata": {
        "id": "view-in-github",
        "colab_type": "text"
      },
      "source": [
        "<a href=\"https://colab.research.google.com/github/WagnerPrata/EstruturandoTXTWhatsApp/blob/main/Estruturando_TXT_do_WhatsApp.ipynb\" target=\"_parent\"><img src=\"https://colab.research.google.com/assets/colab-badge.svg\" alt=\"Open In Colab\"/></a>"
      ]
    },
    {
      "cell_type": "markdown",
      "source": [
        "# **BIBLIOTECAS USADAS** "
      ],
      "metadata": {
        "id": "Iv9eh-lwYuHD"
      }
    },
    {
      "cell_type": "code",
      "execution_count": null,
      "metadata": {
        "id": "9YqcXairJoCK"
      },
      "outputs": [],
      "source": [
        "import matplotlib.pyplot as plt\n",
        "import pandas as pd\n",
        "import numpy as np\n",
        "import csv\n",
        "import seaborn as sns\n",
        "from google.colab import files\n",
        "import io\n",
        "import re\n",
        "import csv"
      ]
    },
    {
      "cell_type": "code",
      "source": [
        "import os\n",
        "from wordcloud import WordCloud"
      ],
      "metadata": {
        "id": "xbTLrN-0V4ja"
      },
      "execution_count": null,
      "outputs": []
    },
    {
      "cell_type": "markdown",
      "source": [
        "# **MANIPULANDO ARQUIVO TXT**\n"
      ],
      "metadata": {
        "id": "HID_8hgfc9gi"
      }
    },
    {
      "cell_type": "markdown",
      "source": [
        "**FAZER DOWLOAND DO ARQUIVO**\n"
      ],
      "metadata": {
        "id": "RaDWM91PfOVg"
      }
    },
    {
      "cell_type": "code",
      "source": [
        "class Arquivo():\n",
        "  _path :str\n",
        "  def __init__(self,path):\n",
        "    self. _path = path\n",
        "  def mostrarConteudo(self):\n",
        "    with(open(self._path, 'r', encoding='utf-8')) as arq:\n",
        "      for item in arq:\n",
        "        print(item)"
      ],
      "metadata": {
        "id": "P5sxX6n5UAS8"
      },
      "execution_count": null,
      "outputs": []
    },
    {
      "cell_type": "code",
      "source": [
        "arquivo = Arquivo('/content/Conversa.txt')"
      ],
      "metadata": {
        "id": "UHYbB-WpXFJz"
      },
      "execution_count": null,
      "outputs": []
    },
    {
      "cell_type": "code",
      "source": [
        "arquivo.mostrarConteudo()"
      ],
      "metadata": {
        "id": "ecyuvIRUXZYe"
      },
      "execution_count": null,
      "outputs": []
    },
    {
      "cell_type": "markdown",
      "source": [
        "# **ESTRUTURAR BASE DE DADOS**"
      ],
      "metadata": {
        "id": "DDVSsu0uf19D"
      }
    },
    {
      "cell_type": "code",
      "source": [
        "analise3 = pd.read_fwf(r\"/content/Conversa.txt\") "
      ],
      "metadata": {
        "id": "YrtPq_ZloA-T"
      },
      "execution_count": null,
      "outputs": []
    },
    {
      "cell_type": "code",
      "source": [
        "analise3.to_csv('Conversa.csv')"
      ],
      "metadata": {
        "id": "XoZlrrcUovwh"
      },
      "execution_count": null,
      "outputs": []
    },
    {
      "cell_type": "code",
      "source": [
        "with open(\"Conversa.csv\", \"r\") as arquivo:\n",
        "  arquivo_csv = csv.reader(arquivo, delimiter=\",\")\n",
        "  for i, linha in enumerate(arquivo_csv):\n",
        "    if i==23:\n",
        "      print (linha)"
      ],
      "metadata": {
        "id": "exaN9SCbyTiM"
      },
      "execution_count": null,
      "outputs": []
    },
    {
      "cell_type": "code",
      "source": [
        "dados_selecionados = pd.read_csv('/content/Conversa.csv', usecols=[1,2,4])\n",
        "dados_selecionados.head(5)"
      ],
      "metadata": {
        "id": "Wokwv8HYzVV2"
      },
      "execution_count": null,
      "outputs": []
    },
    {
      "cell_type": "code",
      "source": [
        "dados_selecionados.rename(columns={'13/05/2021':'DATA','08:46':'HORA','As mensagens e as chamadas são protegidas com a criptografia de ponta a ponta e ficam somente entre você e os participantes desta conversa. Nem mesmo o WhatsApp pode ler ou ouvi-las. Toque para saber mais.':'MENSAGEM'}, inplace=True)"
      ],
      "metadata": {
        "id": "XSVdRieU0-Jo"
      },
      "execution_count": null,
      "outputs": []
    },
    {
      "cell_type": "code",
      "source": [
        "dados_selecionados.to_csv('DADOS SELECIONADOS.csv')"
      ],
      "metadata": {
        "id": "B8l7GSYk1Zvt"
      },
      "execution_count": null,
      "outputs": []
    },
    {
      "cell_type": "code",
      "source": [
        "#analise3"
      ],
      "metadata": {
        "id": "1otb8OjDv1yj"
      },
      "execution_count": null,
      "outputs": []
    },
    {
      "cell_type": "code",
      "source": [
        "dados_selecionados.info()"
      ],
      "metadata": {
        "id": "bHa-gBVBwtuM"
      },
      "execution_count": null,
      "outputs": []
    },
    {
      "cell_type": "code",
      "source": [
        "from pandas.core.frame import Axis\n",
        "analise3.drop(['Unnamed: 4','Unnamed: 5', 'Unnamed: 6', 'Unnamed: 7','Unnamed: 8','Unnamed: 9', 'Unnamed: 10', 'Unnamed: 11','Unnamed: 12','Unnamed: 13', 'Unnamed: 14', 'Unnamed: 15','Unnamed: 16', 'Unnamed: 17', 'Unnamed: 18','Unnamed: 19','Unnamed: 20', 'Unnamed: 21', 'Unnamed: 22','Unnamed: 23','Unnamed: 24'],axis=1)"
      ],
      "metadata": {
        "id": "vNOZfFdNpZAt"
      },
      "execution_count": null,
      "outputs": []
    },
    {
      "cell_type": "code",
      "source": [
        "analise3.rename(columns={'13/05/2021':'DATA','08:46':'HORA','As mensagens e as chamadas são protegidas com a criptografia de ponta a ponta e ficam somente entre você e os participantes desta conversa. Nem mesmo o WhatsApp pode ler ou ouvi-las. Toque para saber mais.':'MENSAGEM'})"
      ],
      "metadata": {
        "id": "BCdT_F_VpmjE"
      },
      "execution_count": null,
      "outputs": []
    },
    {
      "cell_type": "markdown",
      "source": [
        "# **LIMPEZA DE DADOS**\n"
      ],
      "metadata": {
        "id": "-A2VDLXG15AU"
      }
    },
    {
      "cell_type": "code",
      "source": [
        "# Lendo o arquivo CSV e carregando para \"data\"\n",
        "data = pd.read_csv(\"/content/DADOS SELECIONADOS.csv\") "
      ],
      "metadata": {
        "id": "7O1gaK7s2g7m"
      },
      "execution_count": null,
      "outputs": []
    },
    {
      "cell_type": "code",
      "source": [
        "# Imprimindo Original no Console\n",
        "#print(data)"
      ],
      "metadata": {
        "id": "GFe8_Cry2kiV"
      },
      "execution_count": null,
      "outputs": []
    },
    {
      "cell_type": "code",
      "source": [
        "# Descartando colunas com valor nulo para evitar erros\n",
        "data.dropna(inplace = True)"
      ],
      "metadata": {
        "id": "kE_dBiUQ2sWF"
      },
      "execution_count": null,
      "outputs": []
    },
    {
      "cell_type": "code",
      "source": [
        "# Nova Data com Split das coluna \"Name\" separado por espaços\n",
        "new = data[\"MENSAGEM\"].str.split(\":\", n = 1, expand = True)"
      ],
      "metadata": {
        "id": "4oYXsayj21ON"
      },
      "execution_count": null,
      "outputs": []
    },
    {
      "cell_type": "code",
      "source": [
        "# Criando a Nova Coluna \"USUARIO\" com o new[0]\n",
        "data[\"USUARIO\"]= new[0] "
      ],
      "metadata": {
        "id": "aycD-x3h3DGz"
      },
      "execution_count": null,
      "outputs": []
    },
    {
      "cell_type": "code",
      "source": [
        "# Criando a Nova Coluna \"SOBRE NOME \" com o new[1]\n",
        "data[\"Mensagem\"]= new[1] "
      ],
      "metadata": {
        "id": "KAUwr4LB3Ol5"
      },
      "execution_count": null,
      "outputs": []
    },
    {
      "cell_type": "code",
      "source": [
        "# Retirando a antiga coluna \"Name\" \n",
        "data.drop(columns =[\"MENSAGEM\"], inplace = True) "
      ],
      "metadata": {
        "id": "sPqZDmzy3tXE"
      },
      "execution_count": null,
      "outputs": []
    },
    {
      "cell_type": "code",
      "source": [
        "# Imprimindo Alteração no Console\n",
        "data.head(100)"
      ],
      "metadata": {
        "id": "ko1a_f1R12jO"
      },
      "execution_count": null,
      "outputs": []
    },
    {
      "cell_type": "code",
      "source": [
        "data2 = data.drop_duplicates(subset='Mensagem',keep= False)"
      ],
      "metadata": {
        "id": "y321z81fS6JR"
      },
      "execution_count": null,
      "outputs": []
    },
    {
      "cell_type": "code",
      "source": [
        "data3 = data2.drop(['Unnamed: 0'],axis=1)"
      ],
      "metadata": {
        "id": "nhTVf5WZZUrN"
      },
      "execution_count": null,
      "outputs": []
    },
    {
      "cell_type": "code",
      "source": [
        "data3.to_csv('DADOS SELECIONADOS2.csv')"
      ],
      "metadata": {
        "id": "cfOLyeYbHrVs"
      },
      "execution_count": null,
      "outputs": []
    },
    {
      "cell_type": "markdown",
      "metadata": {
        "id": "-hzpF9QEAQaq"
      },
      "source": [
        "# **NUVEM DE PALAVRAS**"
      ]
    },
    {
      "cell_type": "code",
      "execution_count": null,
      "metadata": {
        "id": "sjPxvcvZxmXl"
      },
      "outputs": [],
      "source": [
        "!pip install wordcloud -q"
      ]
    },
    {
      "cell_type": "code",
      "source": [
        "from wordcloud import WordCloud, STOPWORDS, ImageColorGenerator"
      ],
      "metadata": {
        "id": "xt4sq5Ti1vHH"
      },
      "execution_count": null,
      "outputs": []
    },
    {
      "cell_type": "code",
      "execution_count": null,
      "metadata": {
        "id": "6vWKdiBvz4c0"
      },
      "outputs": [],
      "source": [
        "df = pd.read_csv(\"/content/DADOS SELECIONADOS2.csv\") #lendo a base de dados duplicada"
      ]
    },
    {
      "cell_type": "code",
      "execution_count": null,
      "metadata": {
        "colab": {
          "base_uri": "https://localhost:8080/"
        },
        "id": "9ZygVxVH4ph3",
        "outputId": "7b4d4cd3-0430-4af7-ba88-75c48810b98a"
      },
      "outputs": [
        {
          "output_type": "stream",
          "name": "stdout",
          "text": [
            "Quantidade de Palavras: 44005\n"
          ]
        }
      ],
      "source": [
        "# concatenar as frases\n",
        "all_frases = \" \".join(s for s in df['Mensagem'])\n",
        "print(\"Quantidade de Palavras: {}\".format(len(all_frases)))"
      ]
    },
    {
      "cell_type": "code",
      "execution_count": null,
      "metadata": {
        "id": "wOpMN9Xi0ifF"
      },
      "outputs": [],
      "source": [
        "#Palavras indesejaveis e sem sentido\n",
        "stopwords = set(STOPWORDS)\n",
        "stopwords.update(['eu','ver','principal','essa','isso','vez','nas','mas','qual',\n",
        "                  'principal','ele','ter','doença','pois','este','vez','ver principal',\n",
        "                  'artigo principal','já','aos','pode','outro','artigo','desse','alguns',\n",
        "                  'meio','entre','das','podem','esse','seu','também','são','quando','de',\n",
        "                  'que','em','os','as','da','como','dos','ou','se','um','uma','para',\n",
        "                  'na','ao','mais','por','não','ainda','muito','sua', 'mídia',\n",
        "                  'oculto','o','e','pra','vc', 'vcs'] + list(STOPWORDS))"
      ]
    },
    {
      "cell_type": "code",
      "execution_count": null,
      "metadata": {
        "id": "YlXwizCY5Qrb"
      },
      "outputs": [],
      "source": [
        "# configurando a wordcloud\n",
        "wordcloud = WordCloud(stopwords=stopwords,\n",
        "                      background_color=\"white\",\n",
        "                      width=1600, height=800).generate(all_frases)\n",
        "fig, ax = plt.subplots(figsize=(10,6))\n",
        "ax.imshow(wordcloud, interpolation='bilinear')\n",
        "ax.set_axis_off()\n",
        "\n",
        "# mostrar a imagem\n",
        "plt.imshow(wordcloud);\n",
        "\n",
        "# salvar a imagem no diretório\n",
        "wordcloud.to_file(\"wordcloud.png\")"
      ]
    },
    {
      "cell_type": "markdown",
      "metadata": {
        "id": "FUGnUh7GiaNv"
      },
      "source": [
        "#**TOKENIZAÇÃO** -  Contagem de palavras"
      ]
    },
    {
      "cell_type": "code",
      "execution_count": null,
      "metadata": {
        "id": "ut4vTbziid1X"
      },
      "outputs": [],
      "source": [
        "#import Countvectorizar para cantar numero de vezes que uma palavra ocorre\n",
        "from sklearn.feature_extraction.text import CountVectorizer"
      ]
    },
    {
      "cell_type": "code",
      "source": [
        "df = pd.read_csv(\"/content/DADOS SELECIONADOS2.csv\") "
      ],
      "metadata": {
        "id": "CDzX4APpkhWe"
      },
      "execution_count": null,
      "outputs": []
    },
    {
      "cell_type": "code",
      "source": [
        "df.head(5)"
      ],
      "metadata": {
        "id": "9bRATDzpktxb"
      },
      "execution_count": null,
      "outputs": []
    },
    {
      "cell_type": "code",
      "source": [
        "#Crie uma matriz para mostrar o número de vezes que palavras específicas aparecem no texto da coluna\n",
        "cv = CountVectorizer()\n",
        "count_matriz = cv.fit_transform(df.Mensagem)"
      ],
      "metadata": {
        "id": "XbmQ1ZdRk-Bk"
      },
      "execution_count": null,
      "outputs": []
    },
    {
      "cell_type": "code",
      "execution_count": null,
      "metadata": {
        "id": "Wr8vtX92ip5m"
      },
      "outputs": [],
      "source": [
        "word_count = pd.DataFrame(cv.get_feature_names(), columns=['Palavras'])\n",
        "word_count[\"Quantidade\"] = count_matriz.sum(axis = 0).tolist()[0]\n",
        "word_count = word_count.sort_values(\"Quantidade\", ascending = False).reset_index(drop =True)\n",
        "word_count[:100]\n"
      ]
    },
    {
      "cell_type": "markdown",
      "metadata": {
        "id": "YGIudoAoVkRs"
      },
      "source": [
        "#**PREPARANDO A BASE DE DADOS** - Tradução"
      ]
    },
    {
      "cell_type": "code",
      "execution_count": null,
      "metadata": {
        "id": "_n4bblYdSDEN"
      },
      "outputs": [],
      "source": [
        "!pip install translate -q"
      ]
    },
    {
      "cell_type": "code",
      "execution_count": null,
      "metadata": {
        "id": "m0Xeu_PWSG7N"
      },
      "outputs": [],
      "source": [
        "from translate import Translator\n",
        "from textblob import TextBlob\n",
        "import translate"
      ]
    },
    {
      "cell_type": "code",
      "execution_count": null,
      "metadata": {
        "id": "GMPlcYXtYgBs",
        "colab": {
          "base_uri": "https://localhost:8080/"
        },
        "outputId": "b19036ee-6951-4cb2-a325-ade459cca8f3"
      },
      "outputs": [
        {
          "output_type": "execute_result",
          "data": {
            "text/plain": [
              "    Unnamed: 0        DATA   HORA           USUARIO  \\\n",
              "0           15  13/05/2021  13:02  +55 79 9990-1718   \n",
              "1           16  13/05/2021  13:03        Daniel Tur   \n",
              "2           18  13/05/2021  13:19         Elias Mel   \n",
              "3           23  05/06/2021  19:31        Daniel Tur   \n",
              "4           24  05/06/2021  19:32        Daniel Tur   \n",
              "..         ...         ...    ...               ...   \n",
              "95         223  20/07/2021  15:32  Sergio Estofados   \n",
              "96         224  20/07/2021  15:32  Sergio Estofados   \n",
              "97         225  20/07/2021  18:09         Elias Mel   \n",
              "98         230  21/07/2021  08:02        Daniel Tur   \n",
              "99         231  21/07/2021  08:02        Daniel Tur   \n",
              "\n",
              "                                             Mensagem  \n",
              "0   MYMEMORY WARNING: YOU USED ALL AVAILABLE FREE ...  \n",
              "1   MYMEMORY WARNING: YOU USED ALL AVAILABLE FREE ...  \n",
              "2   MYMEMORY WARNING: YOU USED ALL AVAILABLE FREE ...  \n",
              "3   MYMEMORY WARNING: YOU USED ALL AVAILABLE FREE ...  \n",
              "4   MYMEMORY WARNING: YOU USED ALL AVAILABLE FREE ...  \n",
              "..                                                ...  \n",
              "95  MYMEMORY WARNING: YOU USED ALL AVAILABLE FREE ...  \n",
              "96  MYMEMORY WARNING: YOU USED ALL AVAILABLE FREE ...  \n",
              "97  MYMEMORY WARNING: YOU USED ALL AVAILABLE FREE ...  \n",
              "98  MYMEMORY WARNING: YOU USED ALL AVAILABLE FREE ...  \n",
              "99  MYMEMORY WARNING: YOU USED ALL AVAILABLE FREE ...  \n",
              "\n",
              "[100 rows x 5 columns]"
            ],
            "text/html": [
              "\n",
              "  <div id=\"df-0547ac68-04e4-4af5-945e-70eb189df411\">\n",
              "    <div class=\"colab-df-container\">\n",
              "      <div>\n",
              "<style scoped>\n",
              "    .dataframe tbody tr th:only-of-type {\n",
              "        vertical-align: middle;\n",
              "    }\n",
              "\n",
              "    .dataframe tbody tr th {\n",
              "        vertical-align: top;\n",
              "    }\n",
              "\n",
              "    .dataframe thead th {\n",
              "        text-align: right;\n",
              "    }\n",
              "</style>\n",
              "<table border=\"1\" class=\"dataframe\">\n",
              "  <thead>\n",
              "    <tr style=\"text-align: right;\">\n",
              "      <th></th>\n",
              "      <th>Unnamed: 0</th>\n",
              "      <th>DATA</th>\n",
              "      <th>HORA</th>\n",
              "      <th>USUARIO</th>\n",
              "      <th>Mensagem</th>\n",
              "    </tr>\n",
              "  </thead>\n",
              "  <tbody>\n",
              "    <tr>\n",
              "      <th>0</th>\n",
              "      <td>15</td>\n",
              "      <td>13/05/2021</td>\n",
              "      <td>13:02</td>\n",
              "      <td>+55 79 9990-1718</td>\n",
              "      <td>MYMEMORY WARNING: YOU USED ALL AVAILABLE FREE ...</td>\n",
              "    </tr>\n",
              "    <tr>\n",
              "      <th>1</th>\n",
              "      <td>16</td>\n",
              "      <td>13/05/2021</td>\n",
              "      <td>13:03</td>\n",
              "      <td>Daniel Tur</td>\n",
              "      <td>MYMEMORY WARNING: YOU USED ALL AVAILABLE FREE ...</td>\n",
              "    </tr>\n",
              "    <tr>\n",
              "      <th>2</th>\n",
              "      <td>18</td>\n",
              "      <td>13/05/2021</td>\n",
              "      <td>13:19</td>\n",
              "      <td>Elias Mel</td>\n",
              "      <td>MYMEMORY WARNING: YOU USED ALL AVAILABLE FREE ...</td>\n",
              "    </tr>\n",
              "    <tr>\n",
              "      <th>3</th>\n",
              "      <td>23</td>\n",
              "      <td>05/06/2021</td>\n",
              "      <td>19:31</td>\n",
              "      <td>Daniel Tur</td>\n",
              "      <td>MYMEMORY WARNING: YOU USED ALL AVAILABLE FREE ...</td>\n",
              "    </tr>\n",
              "    <tr>\n",
              "      <th>4</th>\n",
              "      <td>24</td>\n",
              "      <td>05/06/2021</td>\n",
              "      <td>19:32</td>\n",
              "      <td>Daniel Tur</td>\n",
              "      <td>MYMEMORY WARNING: YOU USED ALL AVAILABLE FREE ...</td>\n",
              "    </tr>\n",
              "    <tr>\n",
              "      <th>...</th>\n",
              "      <td>...</td>\n",
              "      <td>...</td>\n",
              "      <td>...</td>\n",
              "      <td>...</td>\n",
              "      <td>...</td>\n",
              "    </tr>\n",
              "    <tr>\n",
              "      <th>95</th>\n",
              "      <td>223</td>\n",
              "      <td>20/07/2021</td>\n",
              "      <td>15:32</td>\n",
              "      <td>Sergio Estofados</td>\n",
              "      <td>MYMEMORY WARNING: YOU USED ALL AVAILABLE FREE ...</td>\n",
              "    </tr>\n",
              "    <tr>\n",
              "      <th>96</th>\n",
              "      <td>224</td>\n",
              "      <td>20/07/2021</td>\n",
              "      <td>15:32</td>\n",
              "      <td>Sergio Estofados</td>\n",
              "      <td>MYMEMORY WARNING: YOU USED ALL AVAILABLE FREE ...</td>\n",
              "    </tr>\n",
              "    <tr>\n",
              "      <th>97</th>\n",
              "      <td>225</td>\n",
              "      <td>20/07/2021</td>\n",
              "      <td>18:09</td>\n",
              "      <td>Elias Mel</td>\n",
              "      <td>MYMEMORY WARNING: YOU USED ALL AVAILABLE FREE ...</td>\n",
              "    </tr>\n",
              "    <tr>\n",
              "      <th>98</th>\n",
              "      <td>230</td>\n",
              "      <td>21/07/2021</td>\n",
              "      <td>08:02</td>\n",
              "      <td>Daniel Tur</td>\n",
              "      <td>MYMEMORY WARNING: YOU USED ALL AVAILABLE FREE ...</td>\n",
              "    </tr>\n",
              "    <tr>\n",
              "      <th>99</th>\n",
              "      <td>231</td>\n",
              "      <td>21/07/2021</td>\n",
              "      <td>08:02</td>\n",
              "      <td>Daniel Tur</td>\n",
              "      <td>MYMEMORY WARNING: YOU USED ALL AVAILABLE FREE ...</td>\n",
              "    </tr>\n",
              "  </tbody>\n",
              "</table>\n",
              "<p>100 rows × 5 columns</p>\n",
              "</div>\n",
              "      <button class=\"colab-df-convert\" onclick=\"convertToInteractive('df-0547ac68-04e4-4af5-945e-70eb189df411')\"\n",
              "              title=\"Convert this dataframe to an interactive table.\"\n",
              "              style=\"display:none;\">\n",
              "        \n",
              "  <svg xmlns=\"http://www.w3.org/2000/svg\" height=\"24px\"viewBox=\"0 0 24 24\"\n",
              "       width=\"24px\">\n",
              "    <path d=\"M0 0h24v24H0V0z\" fill=\"none\"/>\n",
              "    <path d=\"M18.56 5.44l.94 2.06.94-2.06 2.06-.94-2.06-.94-.94-2.06-.94 2.06-2.06.94zm-11 1L8.5 8.5l.94-2.06 2.06-.94-2.06-.94L8.5 2.5l-.94 2.06-2.06.94zm10 10l.94 2.06.94-2.06 2.06-.94-2.06-.94-.94-2.06-.94 2.06-2.06.94z\"/><path d=\"M17.41 7.96l-1.37-1.37c-.4-.4-.92-.59-1.43-.59-.52 0-1.04.2-1.43.59L10.3 9.45l-7.72 7.72c-.78.78-.78 2.05 0 2.83L4 21.41c.39.39.9.59 1.41.59.51 0 1.02-.2 1.41-.59l7.78-7.78 2.81-2.81c.8-.78.8-2.07 0-2.86zM5.41 20L4 18.59l7.72-7.72 1.47 1.35L5.41 20z\"/>\n",
              "  </svg>\n",
              "      </button>\n",
              "      \n",
              "  <style>\n",
              "    .colab-df-container {\n",
              "      display:flex;\n",
              "      flex-wrap:wrap;\n",
              "      gap: 12px;\n",
              "    }\n",
              "\n",
              "    .colab-df-convert {\n",
              "      background-color: #E8F0FE;\n",
              "      border: none;\n",
              "      border-radius: 50%;\n",
              "      cursor: pointer;\n",
              "      display: none;\n",
              "      fill: #1967D2;\n",
              "      height: 32px;\n",
              "      padding: 0 0 0 0;\n",
              "      width: 32px;\n",
              "    }\n",
              "\n",
              "    .colab-df-convert:hover {\n",
              "      background-color: #E2EBFA;\n",
              "      box-shadow: 0px 1px 2px rgba(60, 64, 67, 0.3), 0px 1px 3px 1px rgba(60, 64, 67, 0.15);\n",
              "      fill: #174EA6;\n",
              "    }\n",
              "\n",
              "    [theme=dark] .colab-df-convert {\n",
              "      background-color: #3B4455;\n",
              "      fill: #D2E3FC;\n",
              "    }\n",
              "\n",
              "    [theme=dark] .colab-df-convert:hover {\n",
              "      background-color: #434B5C;\n",
              "      box-shadow: 0px 1px 3px 1px rgba(0, 0, 0, 0.15);\n",
              "      filter: drop-shadow(0px 1px 2px rgba(0, 0, 0, 0.3));\n",
              "      fill: #FFFFFF;\n",
              "    }\n",
              "  </style>\n",
              "\n",
              "      <script>\n",
              "        const buttonEl =\n",
              "          document.querySelector('#df-0547ac68-04e4-4af5-945e-70eb189df411 button.colab-df-convert');\n",
              "        buttonEl.style.display =\n",
              "          google.colab.kernel.accessAllowed ? 'block' : 'none';\n",
              "\n",
              "        async function convertToInteractive(key) {\n",
              "          const element = document.querySelector('#df-0547ac68-04e4-4af5-945e-70eb189df411');\n",
              "          const dataTable =\n",
              "            await google.colab.kernel.invokeFunction('convertToInteractive',\n",
              "                                                     [key], {});\n",
              "          if (!dataTable) return;\n",
              "\n",
              "          const docLinkHtml = 'Like what you see? Visit the ' +\n",
              "            '<a target=\"_blank\" href=https://colab.research.google.com/notebooks/data_table.ipynb>data table notebook</a>'\n",
              "            + ' to learn more about interactive tables.';\n",
              "          element.innerHTML = '';\n",
              "          dataTable['output_type'] = 'display_data';\n",
              "          await google.colab.output.renderOutput(dataTable, element);\n",
              "          const docLink = document.createElement('div');\n",
              "          docLink.innerHTML = docLinkHtml;\n",
              "          element.appendChild(docLink);\n",
              "        }\n",
              "      </script>\n",
              "    </div>\n",
              "  </div>\n",
              "  "
            ]
          },
          "metadata": {},
          "execution_count": 329
        }
      ],
      "source": [
        "for index, row in df.iterrows():\n",
        "    pt_blob = df.iloc[index]['Mensagem']\n",
        "    translator = Translator(from_lang=\"pt\", to_lang=\"en\")\n",
        "    #translator = Translator(to_lang=\"en\") #Traduzir para Inglês    pt_blob = translator.translate(pt_blob)\n",
        "    en_blob = translator.translate(pt_blob)\n",
        "    df.at[index, str('Mensagem')] = str(en_blob)\n",
        "df.head(100)"
      ]
    },
    {
      "cell_type": "code",
      "execution_count": null,
      "metadata": {
        "id": "Ne7MfogHinH1"
      },
      "outputs": [],
      "source": [
        "#trandformo o dataframe em um arquivo CSV - para aplicar a analise \n",
        "df.to_csv(\"traducao.csv\")\n"
      ]
    },
    {
      "cell_type": "code",
      "execution_count": null,
      "metadata": {
        "id": "_D_mmxqzqSsN"
      },
      "outputs": [],
      "source": [
        "#Cria um dataframe especifico para analise \n",
        "analise = pd.read_csv(\"traducao.csv\")"
      ]
    },
    {
      "cell_type": "markdown",
      "metadata": {
        "id": "V8W5afUZWVcz"
      },
      "source": [
        "# **ANÁLISE DE TWIITER NEGATIVO E POSITIVO**"
      ]
    },
    {
      "cell_type": "code",
      "execution_count": null,
      "metadata": {
        "id": "NS0Y5yCF-zwR"
      },
      "outputs": [],
      "source": [
        "from sklearn.metrics import accuracy_score #acuracia"
      ]
    },
    {
      "cell_type": "code",
      "execution_count": null,
      "metadata": {
        "id": "yBALJI2j-rlB"
      },
      "outputs": [],
      "source": [
        "# Função que analisa e obtém a subjetividade\n",
        "def capture_subjetividade_pt(text):\n",
        "    return TextBlob(text).sentiment.subjectivity\n",
        "# Função que analisa e obtém a polaridade\n",
        "def capture_polaridade_pt(text):\n",
        "    return  TextBlob(text).sentiment.polarity\n",
        "\n",
        "#def translate_text(text): #Aqui encontramos limitações na quantidade de traduções \n",
        "      #translator = Translator(from_lang=\"pt\", to_lang=\"en\") #Traduzir de Portugues para Ingles\n",
        "      #return translator.translate(text)\n",
        "\n",
        "#Traduzindo\n",
        "#df_tweets['Mensagem'] = df_tweets['Mensagem'].apply(translate_text)\n",
        "\n",
        "# Criar duas colunas de subjetividade e polaridade\n",
        "\n",
        "analise['Subjetividade'] = analise['Mensagem'].apply(capture_polaridade_pt)\n",
        "analise['Polaridade'] = analise['Mensagem'].apply(capture_subjetividade_pt)\n",
        "\n",
        "# Mostra um novo dataframe com as colunas subjetividade e polaridade\n",
        "#analise.tail(10)"
      ]
    },
    {
      "cell_type": "code",
      "execution_count": null,
      "metadata": {
        "id": "G793TzSdqt_I",
        "colab": {
          "base_uri": "https://localhost:8080/"
        },
        "outputId": "9730e5c9-bbf6-4c41-ddcc-d7f1c677dec9"
      },
      "outputs": [
        {
          "output_type": "execute_result",
          "data": {
            "text/plain": [
              "     Unnamed: 0  Unnamed: 0.1        DATA   HORA            USUARIO  \\\n",
              "974         974          2428  29/09/2022  20:47  Vanderson Abelhas   \n",
              "975         975          2429  29/09/2022  20:48  Vanderson Abelhas   \n",
              "976         976          2430  29/09/2022  20:50          Elias Mel   \n",
              "977         977          2431  29/09/2022  21:34  Vanderson Abelhas   \n",
              "978         978          2435  01/10/2022  11:04         Daniel Tur   \n",
              "979         979          2438  01/10/2022  12:56   Sergio Estofados   \n",
              "980         980          2439  01/10/2022  12:56   Sergio Estofados   \n",
              "981         981          2444  04/10/2022  10:52  Vanderson Abelhas   \n",
              "982         982          2448  04/10/2022  12:01          Elias Mel   \n",
              "983         983          2455  06/10/2022  13:13   +55 79 9990-1718   \n",
              "\n",
              "                                              Mensagem  Subjetividade  \\\n",
              "974  MYMEMORY WARNING: YOU USED ALL AVAILABLE FREE ...           0.34   \n",
              "975  MYMEMORY WARNING: YOU USED ALL AVAILABLE FREE ...           0.34   \n",
              "976  MYMEMORY WARNING: YOU USED ALL AVAILABLE FREE ...           0.34   \n",
              "977  MYMEMORY WARNING: YOU USED ALL AVAILABLE FREE ...           0.34   \n",
              "978  MYMEMORY WARNING: YOU USED ALL AVAILABLE FREE ...           0.34   \n",
              "979  MYMEMORY WARNING: YOU USED ALL AVAILABLE FREE ...           0.34   \n",
              "980  MYMEMORY WARNING: YOU USED ALL AVAILABLE FREE ...           0.34   \n",
              "981  MYMEMORY WARNING: YOU USED ALL AVAILABLE FREE ...           0.34   \n",
              "982  MYMEMORY WARNING: YOU USED ALL AVAILABLE FREE ...           0.34   \n",
              "983  MYMEMORY WARNING: YOU USED ALL AVAILABLE FREE ...           0.34   \n",
              "\n",
              "     Polaridade  \n",
              "974        0.42  \n",
              "975        0.42  \n",
              "976        0.42  \n",
              "977        0.42  \n",
              "978        0.42  \n",
              "979        0.42  \n",
              "980        0.42  \n",
              "981        0.42  \n",
              "982        0.42  \n",
              "983        0.42  "
            ],
            "text/html": [
              "\n",
              "  <div id=\"df-a7509e75-d68b-4b06-8de7-b7535beb4594\">\n",
              "    <div class=\"colab-df-container\">\n",
              "      <div>\n",
              "<style scoped>\n",
              "    .dataframe tbody tr th:only-of-type {\n",
              "        vertical-align: middle;\n",
              "    }\n",
              "\n",
              "    .dataframe tbody tr th {\n",
              "        vertical-align: top;\n",
              "    }\n",
              "\n",
              "    .dataframe thead th {\n",
              "        text-align: right;\n",
              "    }\n",
              "</style>\n",
              "<table border=\"1\" class=\"dataframe\">\n",
              "  <thead>\n",
              "    <tr style=\"text-align: right;\">\n",
              "      <th></th>\n",
              "      <th>Unnamed: 0</th>\n",
              "      <th>Unnamed: 0.1</th>\n",
              "      <th>DATA</th>\n",
              "      <th>HORA</th>\n",
              "      <th>USUARIO</th>\n",
              "      <th>Mensagem</th>\n",
              "      <th>Subjetividade</th>\n",
              "      <th>Polaridade</th>\n",
              "    </tr>\n",
              "  </thead>\n",
              "  <tbody>\n",
              "    <tr>\n",
              "      <th>974</th>\n",
              "      <td>974</td>\n",
              "      <td>2428</td>\n",
              "      <td>29/09/2022</td>\n",
              "      <td>20:47</td>\n",
              "      <td>Vanderson Abelhas</td>\n",
              "      <td>MYMEMORY WARNING: YOU USED ALL AVAILABLE FREE ...</td>\n",
              "      <td>0.34</td>\n",
              "      <td>0.42</td>\n",
              "    </tr>\n",
              "    <tr>\n",
              "      <th>975</th>\n",
              "      <td>975</td>\n",
              "      <td>2429</td>\n",
              "      <td>29/09/2022</td>\n",
              "      <td>20:48</td>\n",
              "      <td>Vanderson Abelhas</td>\n",
              "      <td>MYMEMORY WARNING: YOU USED ALL AVAILABLE FREE ...</td>\n",
              "      <td>0.34</td>\n",
              "      <td>0.42</td>\n",
              "    </tr>\n",
              "    <tr>\n",
              "      <th>976</th>\n",
              "      <td>976</td>\n",
              "      <td>2430</td>\n",
              "      <td>29/09/2022</td>\n",
              "      <td>20:50</td>\n",
              "      <td>Elias Mel</td>\n",
              "      <td>MYMEMORY WARNING: YOU USED ALL AVAILABLE FREE ...</td>\n",
              "      <td>0.34</td>\n",
              "      <td>0.42</td>\n",
              "    </tr>\n",
              "    <tr>\n",
              "      <th>977</th>\n",
              "      <td>977</td>\n",
              "      <td>2431</td>\n",
              "      <td>29/09/2022</td>\n",
              "      <td>21:34</td>\n",
              "      <td>Vanderson Abelhas</td>\n",
              "      <td>MYMEMORY WARNING: YOU USED ALL AVAILABLE FREE ...</td>\n",
              "      <td>0.34</td>\n",
              "      <td>0.42</td>\n",
              "    </tr>\n",
              "    <tr>\n",
              "      <th>978</th>\n",
              "      <td>978</td>\n",
              "      <td>2435</td>\n",
              "      <td>01/10/2022</td>\n",
              "      <td>11:04</td>\n",
              "      <td>Daniel Tur</td>\n",
              "      <td>MYMEMORY WARNING: YOU USED ALL AVAILABLE FREE ...</td>\n",
              "      <td>0.34</td>\n",
              "      <td>0.42</td>\n",
              "    </tr>\n",
              "    <tr>\n",
              "      <th>979</th>\n",
              "      <td>979</td>\n",
              "      <td>2438</td>\n",
              "      <td>01/10/2022</td>\n",
              "      <td>12:56</td>\n",
              "      <td>Sergio Estofados</td>\n",
              "      <td>MYMEMORY WARNING: YOU USED ALL AVAILABLE FREE ...</td>\n",
              "      <td>0.34</td>\n",
              "      <td>0.42</td>\n",
              "    </tr>\n",
              "    <tr>\n",
              "      <th>980</th>\n",
              "      <td>980</td>\n",
              "      <td>2439</td>\n",
              "      <td>01/10/2022</td>\n",
              "      <td>12:56</td>\n",
              "      <td>Sergio Estofados</td>\n",
              "      <td>MYMEMORY WARNING: YOU USED ALL AVAILABLE FREE ...</td>\n",
              "      <td>0.34</td>\n",
              "      <td>0.42</td>\n",
              "    </tr>\n",
              "    <tr>\n",
              "      <th>981</th>\n",
              "      <td>981</td>\n",
              "      <td>2444</td>\n",
              "      <td>04/10/2022</td>\n",
              "      <td>10:52</td>\n",
              "      <td>Vanderson Abelhas</td>\n",
              "      <td>MYMEMORY WARNING: YOU USED ALL AVAILABLE FREE ...</td>\n",
              "      <td>0.34</td>\n",
              "      <td>0.42</td>\n",
              "    </tr>\n",
              "    <tr>\n",
              "      <th>982</th>\n",
              "      <td>982</td>\n",
              "      <td>2448</td>\n",
              "      <td>04/10/2022</td>\n",
              "      <td>12:01</td>\n",
              "      <td>Elias Mel</td>\n",
              "      <td>MYMEMORY WARNING: YOU USED ALL AVAILABLE FREE ...</td>\n",
              "      <td>0.34</td>\n",
              "      <td>0.42</td>\n",
              "    </tr>\n",
              "    <tr>\n",
              "      <th>983</th>\n",
              "      <td>983</td>\n",
              "      <td>2455</td>\n",
              "      <td>06/10/2022</td>\n",
              "      <td>13:13</td>\n",
              "      <td>+55 79 9990-1718</td>\n",
              "      <td>MYMEMORY WARNING: YOU USED ALL AVAILABLE FREE ...</td>\n",
              "      <td>0.34</td>\n",
              "      <td>0.42</td>\n",
              "    </tr>\n",
              "  </tbody>\n",
              "</table>\n",
              "</div>\n",
              "      <button class=\"colab-df-convert\" onclick=\"convertToInteractive('df-a7509e75-d68b-4b06-8de7-b7535beb4594')\"\n",
              "              title=\"Convert this dataframe to an interactive table.\"\n",
              "              style=\"display:none;\">\n",
              "        \n",
              "  <svg xmlns=\"http://www.w3.org/2000/svg\" height=\"24px\"viewBox=\"0 0 24 24\"\n",
              "       width=\"24px\">\n",
              "    <path d=\"M0 0h24v24H0V0z\" fill=\"none\"/>\n",
              "    <path d=\"M18.56 5.44l.94 2.06.94-2.06 2.06-.94-2.06-.94-.94-2.06-.94 2.06-2.06.94zm-11 1L8.5 8.5l.94-2.06 2.06-.94-2.06-.94L8.5 2.5l-.94 2.06-2.06.94zm10 10l.94 2.06.94-2.06 2.06-.94-2.06-.94-.94-2.06-.94 2.06-2.06.94z\"/><path d=\"M17.41 7.96l-1.37-1.37c-.4-.4-.92-.59-1.43-.59-.52 0-1.04.2-1.43.59L10.3 9.45l-7.72 7.72c-.78.78-.78 2.05 0 2.83L4 21.41c.39.39.9.59 1.41.59.51 0 1.02-.2 1.41-.59l7.78-7.78 2.81-2.81c.8-.78.8-2.07 0-2.86zM5.41 20L4 18.59l7.72-7.72 1.47 1.35L5.41 20z\"/>\n",
              "  </svg>\n",
              "      </button>\n",
              "      \n",
              "  <style>\n",
              "    .colab-df-container {\n",
              "      display:flex;\n",
              "      flex-wrap:wrap;\n",
              "      gap: 12px;\n",
              "    }\n",
              "\n",
              "    .colab-df-convert {\n",
              "      background-color: #E8F0FE;\n",
              "      border: none;\n",
              "      border-radius: 50%;\n",
              "      cursor: pointer;\n",
              "      display: none;\n",
              "      fill: #1967D2;\n",
              "      height: 32px;\n",
              "      padding: 0 0 0 0;\n",
              "      width: 32px;\n",
              "    }\n",
              "\n",
              "    .colab-df-convert:hover {\n",
              "      background-color: #E2EBFA;\n",
              "      box-shadow: 0px 1px 2px rgba(60, 64, 67, 0.3), 0px 1px 3px 1px rgba(60, 64, 67, 0.15);\n",
              "      fill: #174EA6;\n",
              "    }\n",
              "\n",
              "    [theme=dark] .colab-df-convert {\n",
              "      background-color: #3B4455;\n",
              "      fill: #D2E3FC;\n",
              "    }\n",
              "\n",
              "    [theme=dark] .colab-df-convert:hover {\n",
              "      background-color: #434B5C;\n",
              "      box-shadow: 0px 1px 3px 1px rgba(0, 0, 0, 0.15);\n",
              "      filter: drop-shadow(0px 1px 2px rgba(0, 0, 0, 0.3));\n",
              "      fill: #FFFFFF;\n",
              "    }\n",
              "  </style>\n",
              "\n",
              "      <script>\n",
              "        const buttonEl =\n",
              "          document.querySelector('#df-a7509e75-d68b-4b06-8de7-b7535beb4594 button.colab-df-convert');\n",
              "        buttonEl.style.display =\n",
              "          google.colab.kernel.accessAllowed ? 'block' : 'none';\n",
              "\n",
              "        async function convertToInteractive(key) {\n",
              "          const element = document.querySelector('#df-a7509e75-d68b-4b06-8de7-b7535beb4594');\n",
              "          const dataTable =\n",
              "            await google.colab.kernel.invokeFunction('convertToInteractive',\n",
              "                                                     [key], {});\n",
              "          if (!dataTable) return;\n",
              "\n",
              "          const docLinkHtml = 'Like what you see? Visit the ' +\n",
              "            '<a target=\"_blank\" href=https://colab.research.google.com/notebooks/data_table.ipynb>data table notebook</a>'\n",
              "            + ' to learn more about interactive tables.';\n",
              "          element.innerHTML = '';\n",
              "          dataTable['output_type'] = 'display_data';\n",
              "          await google.colab.output.renderOutput(dataTable, element);\n",
              "          const docLink = document.createElement('div');\n",
              "          docLink.innerHTML = docLinkHtml;\n",
              "          element.appendChild(docLink);\n",
              "        }\n",
              "      </script>\n",
              "    </div>\n",
              "  </div>\n",
              "  "
            ]
          },
          "metadata": {},
          "execution_count": 334
        }
      ],
      "source": [
        "# Mostra um novo dataframe com as colunas subjetividade e polaridade\n",
        "analise.tail(10)"
      ]
    },
    {
      "cell_type": "code",
      "execution_count": null,
      "metadata": {
        "id": "8hhxK04NFzfm"
      },
      "outputs": [],
      "source": [
        "#-1 negativo\n",
        "#0 neutro\n",
        "#1 positivo\n",
        "def gerar_analise(score):\n",
        "    if score < 0:\n",
        "        return 'Negativo'\n",
        "    elif score == 0:\n",
        "        return 'Negativo'\n",
        "    else:\n",
        "        return 'Positivo'\n",
        "analise['Analise'] = analise['Polaridade'].apply(gerar_analise)"
      ]
    },
    {
      "cell_type": "code",
      "execution_count": null,
      "metadata": {
        "id": "x6E1WqYIriN-"
      },
      "outputs": [],
      "source": [
        "analise.to_csv(\"Analise.csv\") #Criando um arquivo CSV das Analise "
      ]
    },
    {
      "cell_type": "code",
      "execution_count": null,
      "metadata": {
        "id": "rbqgt0-MiIs0",
        "colab": {
          "base_uri": "https://localhost:8080/"
        },
        "outputId": "656ee19d-2430-49de-a8db-36f16b73f1f5"
      },
      "outputs": [
        {
          "output_type": "execute_result",
          "data": {
            "text/plain": [
              "     Unnamed: 0  Unnamed: 0.1        DATA   HORA            USUARIO  \\\n",
              "0             0            15  13/05/2021  13:02   +55 79 9990-1718   \n",
              "1             1            16  13/05/2021  13:03         Daniel Tur   \n",
              "2             2            18  13/05/2021  13:19          Elias Mel   \n",
              "3             3            23  05/06/2021  19:31         Daniel Tur   \n",
              "4             4            24  05/06/2021  19:32         Daniel Tur   \n",
              "..          ...           ...         ...    ...                ...   \n",
              "979         979          2438  01/10/2022  12:56   Sergio Estofados   \n",
              "980         980          2439  01/10/2022  12:56   Sergio Estofados   \n",
              "981         981          2444  04/10/2022  10:52  Vanderson Abelhas   \n",
              "982         982          2448  04/10/2022  12:01          Elias Mel   \n",
              "983         983          2455  06/10/2022  13:13   +55 79 9990-1718   \n",
              "\n",
              "                                              Mensagem  Subjetividade  \\\n",
              "0    MYMEMORY WARNING: YOU USED ALL AVAILABLE FREE ...           0.34   \n",
              "1    MYMEMORY WARNING: YOU USED ALL AVAILABLE FREE ...           0.34   \n",
              "2    MYMEMORY WARNING: YOU USED ALL AVAILABLE FREE ...           0.34   \n",
              "3    MYMEMORY WARNING: YOU USED ALL AVAILABLE FREE ...           0.34   \n",
              "4    MYMEMORY WARNING: YOU USED ALL AVAILABLE FREE ...           0.34   \n",
              "..                                                 ...            ...   \n",
              "979  MYMEMORY WARNING: YOU USED ALL AVAILABLE FREE ...           0.34   \n",
              "980  MYMEMORY WARNING: YOU USED ALL AVAILABLE FREE ...           0.34   \n",
              "981  MYMEMORY WARNING: YOU USED ALL AVAILABLE FREE ...           0.34   \n",
              "982  MYMEMORY WARNING: YOU USED ALL AVAILABLE FREE ...           0.34   \n",
              "983  MYMEMORY WARNING: YOU USED ALL AVAILABLE FREE ...           0.34   \n",
              "\n",
              "     Polaridade   Analise  \n",
              "0          0.42  Positivo  \n",
              "1          0.42  Positivo  \n",
              "2          0.42  Positivo  \n",
              "3          0.42  Positivo  \n",
              "4          0.42  Positivo  \n",
              "..          ...       ...  \n",
              "979        0.42  Positivo  \n",
              "980        0.42  Positivo  \n",
              "981        0.42  Positivo  \n",
              "982        0.42  Positivo  \n",
              "983        0.42  Positivo  \n",
              "\n",
              "[984 rows x 9 columns]"
            ],
            "text/html": [
              "\n",
              "  <div id=\"df-4aba4088-2366-4418-b150-96c903303be8\">\n",
              "    <div class=\"colab-df-container\">\n",
              "      <div>\n",
              "<style scoped>\n",
              "    .dataframe tbody tr th:only-of-type {\n",
              "        vertical-align: middle;\n",
              "    }\n",
              "\n",
              "    .dataframe tbody tr th {\n",
              "        vertical-align: top;\n",
              "    }\n",
              "\n",
              "    .dataframe thead th {\n",
              "        text-align: right;\n",
              "    }\n",
              "</style>\n",
              "<table border=\"1\" class=\"dataframe\">\n",
              "  <thead>\n",
              "    <tr style=\"text-align: right;\">\n",
              "      <th></th>\n",
              "      <th>Unnamed: 0</th>\n",
              "      <th>Unnamed: 0.1</th>\n",
              "      <th>DATA</th>\n",
              "      <th>HORA</th>\n",
              "      <th>USUARIO</th>\n",
              "      <th>Mensagem</th>\n",
              "      <th>Subjetividade</th>\n",
              "      <th>Polaridade</th>\n",
              "      <th>Analise</th>\n",
              "    </tr>\n",
              "  </thead>\n",
              "  <tbody>\n",
              "    <tr>\n",
              "      <th>0</th>\n",
              "      <td>0</td>\n",
              "      <td>15</td>\n",
              "      <td>13/05/2021</td>\n",
              "      <td>13:02</td>\n",
              "      <td>+55 79 9990-1718</td>\n",
              "      <td>MYMEMORY WARNING: YOU USED ALL AVAILABLE FREE ...</td>\n",
              "      <td>0.34</td>\n",
              "      <td>0.42</td>\n",
              "      <td>Positivo</td>\n",
              "    </tr>\n",
              "    <tr>\n",
              "      <th>1</th>\n",
              "      <td>1</td>\n",
              "      <td>16</td>\n",
              "      <td>13/05/2021</td>\n",
              "      <td>13:03</td>\n",
              "      <td>Daniel Tur</td>\n",
              "      <td>MYMEMORY WARNING: YOU USED ALL AVAILABLE FREE ...</td>\n",
              "      <td>0.34</td>\n",
              "      <td>0.42</td>\n",
              "      <td>Positivo</td>\n",
              "    </tr>\n",
              "    <tr>\n",
              "      <th>2</th>\n",
              "      <td>2</td>\n",
              "      <td>18</td>\n",
              "      <td>13/05/2021</td>\n",
              "      <td>13:19</td>\n",
              "      <td>Elias Mel</td>\n",
              "      <td>MYMEMORY WARNING: YOU USED ALL AVAILABLE FREE ...</td>\n",
              "      <td>0.34</td>\n",
              "      <td>0.42</td>\n",
              "      <td>Positivo</td>\n",
              "    </tr>\n",
              "    <tr>\n",
              "      <th>3</th>\n",
              "      <td>3</td>\n",
              "      <td>23</td>\n",
              "      <td>05/06/2021</td>\n",
              "      <td>19:31</td>\n",
              "      <td>Daniel Tur</td>\n",
              "      <td>MYMEMORY WARNING: YOU USED ALL AVAILABLE FREE ...</td>\n",
              "      <td>0.34</td>\n",
              "      <td>0.42</td>\n",
              "      <td>Positivo</td>\n",
              "    </tr>\n",
              "    <tr>\n",
              "      <th>4</th>\n",
              "      <td>4</td>\n",
              "      <td>24</td>\n",
              "      <td>05/06/2021</td>\n",
              "      <td>19:32</td>\n",
              "      <td>Daniel Tur</td>\n",
              "      <td>MYMEMORY WARNING: YOU USED ALL AVAILABLE FREE ...</td>\n",
              "      <td>0.34</td>\n",
              "      <td>0.42</td>\n",
              "      <td>Positivo</td>\n",
              "    </tr>\n",
              "    <tr>\n",
              "      <th>...</th>\n",
              "      <td>...</td>\n",
              "      <td>...</td>\n",
              "      <td>...</td>\n",
              "      <td>...</td>\n",
              "      <td>...</td>\n",
              "      <td>...</td>\n",
              "      <td>...</td>\n",
              "      <td>...</td>\n",
              "      <td>...</td>\n",
              "    </tr>\n",
              "    <tr>\n",
              "      <th>979</th>\n",
              "      <td>979</td>\n",
              "      <td>2438</td>\n",
              "      <td>01/10/2022</td>\n",
              "      <td>12:56</td>\n",
              "      <td>Sergio Estofados</td>\n",
              "      <td>MYMEMORY WARNING: YOU USED ALL AVAILABLE FREE ...</td>\n",
              "      <td>0.34</td>\n",
              "      <td>0.42</td>\n",
              "      <td>Positivo</td>\n",
              "    </tr>\n",
              "    <tr>\n",
              "      <th>980</th>\n",
              "      <td>980</td>\n",
              "      <td>2439</td>\n",
              "      <td>01/10/2022</td>\n",
              "      <td>12:56</td>\n",
              "      <td>Sergio Estofados</td>\n",
              "      <td>MYMEMORY WARNING: YOU USED ALL AVAILABLE FREE ...</td>\n",
              "      <td>0.34</td>\n",
              "      <td>0.42</td>\n",
              "      <td>Positivo</td>\n",
              "    </tr>\n",
              "    <tr>\n",
              "      <th>981</th>\n",
              "      <td>981</td>\n",
              "      <td>2444</td>\n",
              "      <td>04/10/2022</td>\n",
              "      <td>10:52</td>\n",
              "      <td>Vanderson Abelhas</td>\n",
              "      <td>MYMEMORY WARNING: YOU USED ALL AVAILABLE FREE ...</td>\n",
              "      <td>0.34</td>\n",
              "      <td>0.42</td>\n",
              "      <td>Positivo</td>\n",
              "    </tr>\n",
              "    <tr>\n",
              "      <th>982</th>\n",
              "      <td>982</td>\n",
              "      <td>2448</td>\n",
              "      <td>04/10/2022</td>\n",
              "      <td>12:01</td>\n",
              "      <td>Elias Mel</td>\n",
              "      <td>MYMEMORY WARNING: YOU USED ALL AVAILABLE FREE ...</td>\n",
              "      <td>0.34</td>\n",
              "      <td>0.42</td>\n",
              "      <td>Positivo</td>\n",
              "    </tr>\n",
              "    <tr>\n",
              "      <th>983</th>\n",
              "      <td>983</td>\n",
              "      <td>2455</td>\n",
              "      <td>06/10/2022</td>\n",
              "      <td>13:13</td>\n",
              "      <td>+55 79 9990-1718</td>\n",
              "      <td>MYMEMORY WARNING: YOU USED ALL AVAILABLE FREE ...</td>\n",
              "      <td>0.34</td>\n",
              "      <td>0.42</td>\n",
              "      <td>Positivo</td>\n",
              "    </tr>\n",
              "  </tbody>\n",
              "</table>\n",
              "<p>984 rows × 9 columns</p>\n",
              "</div>\n",
              "      <button class=\"colab-df-convert\" onclick=\"convertToInteractive('df-4aba4088-2366-4418-b150-96c903303be8')\"\n",
              "              title=\"Convert this dataframe to an interactive table.\"\n",
              "              style=\"display:none;\">\n",
              "        \n",
              "  <svg xmlns=\"http://www.w3.org/2000/svg\" height=\"24px\"viewBox=\"0 0 24 24\"\n",
              "       width=\"24px\">\n",
              "    <path d=\"M0 0h24v24H0V0z\" fill=\"none\"/>\n",
              "    <path d=\"M18.56 5.44l.94 2.06.94-2.06 2.06-.94-2.06-.94-.94-2.06-.94 2.06-2.06.94zm-11 1L8.5 8.5l.94-2.06 2.06-.94-2.06-.94L8.5 2.5l-.94 2.06-2.06.94zm10 10l.94 2.06.94-2.06 2.06-.94-2.06-.94-.94-2.06-.94 2.06-2.06.94z\"/><path d=\"M17.41 7.96l-1.37-1.37c-.4-.4-.92-.59-1.43-.59-.52 0-1.04.2-1.43.59L10.3 9.45l-7.72 7.72c-.78.78-.78 2.05 0 2.83L4 21.41c.39.39.9.59 1.41.59.51 0 1.02-.2 1.41-.59l7.78-7.78 2.81-2.81c.8-.78.8-2.07 0-2.86zM5.41 20L4 18.59l7.72-7.72 1.47 1.35L5.41 20z\"/>\n",
              "  </svg>\n",
              "      </button>\n",
              "      \n",
              "  <style>\n",
              "    .colab-df-container {\n",
              "      display:flex;\n",
              "      flex-wrap:wrap;\n",
              "      gap: 12px;\n",
              "    }\n",
              "\n",
              "    .colab-df-convert {\n",
              "      background-color: #E8F0FE;\n",
              "      border: none;\n",
              "      border-radius: 50%;\n",
              "      cursor: pointer;\n",
              "      display: none;\n",
              "      fill: #1967D2;\n",
              "      height: 32px;\n",
              "      padding: 0 0 0 0;\n",
              "      width: 32px;\n",
              "    }\n",
              "\n",
              "    .colab-df-convert:hover {\n",
              "      background-color: #E2EBFA;\n",
              "      box-shadow: 0px 1px 2px rgba(60, 64, 67, 0.3), 0px 1px 3px 1px rgba(60, 64, 67, 0.15);\n",
              "      fill: #174EA6;\n",
              "    }\n",
              "\n",
              "    [theme=dark] .colab-df-convert {\n",
              "      background-color: #3B4455;\n",
              "      fill: #D2E3FC;\n",
              "    }\n",
              "\n",
              "    [theme=dark] .colab-df-convert:hover {\n",
              "      background-color: #434B5C;\n",
              "      box-shadow: 0px 1px 3px 1px rgba(0, 0, 0, 0.15);\n",
              "      filter: drop-shadow(0px 1px 2px rgba(0, 0, 0, 0.3));\n",
              "      fill: #FFFFFF;\n",
              "    }\n",
              "  </style>\n",
              "\n",
              "      <script>\n",
              "        const buttonEl =\n",
              "          document.querySelector('#df-4aba4088-2366-4418-b150-96c903303be8 button.colab-df-convert');\n",
              "        buttonEl.style.display =\n",
              "          google.colab.kernel.accessAllowed ? 'block' : 'none';\n",
              "\n",
              "        async function convertToInteractive(key) {\n",
              "          const element = document.querySelector('#df-4aba4088-2366-4418-b150-96c903303be8');\n",
              "          const dataTable =\n",
              "            await google.colab.kernel.invokeFunction('convertToInteractive',\n",
              "                                                     [key], {});\n",
              "          if (!dataTable) return;\n",
              "\n",
              "          const docLinkHtml = 'Like what you see? Visit the ' +\n",
              "            '<a target=\"_blank\" href=https://colab.research.google.com/notebooks/data_table.ipynb>data table notebook</a>'\n",
              "            + ' to learn more about interactive tables.';\n",
              "          element.innerHTML = '';\n",
              "          dataTable['output_type'] = 'display_data';\n",
              "          await google.colab.output.renderOutput(dataTable, element);\n",
              "          const docLink = document.createElement('div');\n",
              "          docLink.innerHTML = docLinkHtml;\n",
              "          element.appendChild(docLink);\n",
              "        }\n",
              "      </script>\n",
              "    </div>\n",
              "  </div>\n",
              "  "
            ]
          },
          "metadata": {},
          "execution_count": 337
        }
      ],
      "source": [
        "analise"
      ]
    },
    {
      "cell_type": "code",
      "execution_count": null,
      "metadata": {
        "id": "PYVhq7i5iEx9",
        "colab": {
          "base_uri": "https://localhost:8080/"
        },
        "outputId": "6937671c-effd-4833-d9b2-50229b99030b"
      },
      "outputs": [
        {
          "output_type": "display_data",
          "data": {
            "text/plain": [
              "<Figure size 432x288 with 1 Axes>"
            ],
            "image/png": "[encoded data removed]"
          },
          "metadata": {
            "needs_background": "light"
          }
        }
      ],
      "source": [
        "from seaborn.categorical import boxplot\n",
        "import matplotlib.pyplot as plt\n",
        "analise.boxplot(column= ['Polaridade'])\n",
        "plt.savefig('Boxplot_Polaridade.png', format='png')\n",
        "plt.show()"
      ]
    },
    {
      "cell_type": "code",
      "execution_count": null,
      "metadata": {
        "id": "COts3NERj2Gv",
        "colab": {
          "base_uri": "https://localhost:8080/"
        },
        "outputId": "950f64db-d58d-4e62-daf9-0ed2fe2df95b"
      },
      "outputs": [
        {
          "output_type": "display_data",
          "data": {
            "text/plain": [
              "<Figure size 432x288 with 1 Axes>"
            ],
            "image/png": "[encoded data removed]"
          },
          "metadata": {
            "needs_background": "light"
          }
        }
      ],
      "source": [
        "import matplotlib.pyplot as plt\n",
        "analise.boxplot(column= ['Subjetividade'])\n",
        "plt.savefig('Boxplot_Subjetividade.png', format='png')\n",
        "plt.show()"
      ]
    },
    {
      "cell_type": "code",
      "execution_count": null,
      "metadata": {
        "colab": {
          "base_uri": "https://localhost:8080/"
        },
        "id": "cvO0kAiyF6Pl",
        "outputId": "43402fea-3da9-4c52-89dd-901302bf6a1c"
      },
      "outputs": [
        {
          "output_type": "display_data",
          "data": {
            "text/plain": [
              "<Figure size 576x432 with 1 Axes>"
            ],
            "image/png": "[encoded data removed]"
          },
          "metadata": {
            "needs_background": "light"
          }
        }
      ],
      "source": [
        "# Plotting \n",
        "plt.figure(figsize=(8,6)) \n",
        "for i in range(0, analise.shape[0]):\n",
        "    plt.scatter(analise[\"Polaridade\"][i], analise[\"Subjetividade\"][i], color='darkblue') \n",
        "plt.title('Análise de sentimento') \n",
        "plt.xlabel('Polaridade') \n",
        "plt.ylabel('Subjetividade')\n",
        "plt.savefig('Gráfico de dispersão.png', format='png')\n",
        "plt.show()"
      ]
    },
    {
      "cell_type": "code",
      "execution_count": null,
      "metadata": {
        "colab": {
          "base_uri": "https://localhost:8080/"
        },
        "id": "Tt-LZzhaF777",
        "outputId": "15a4abad-74cb-42ad-df49-ae295284e43d"
      },
      "outputs": [
        {
          "output_type": "execute_result",
          "data": {
            "text/plain": [
              "100.0"
            ]
          },
          "metadata": {},
          "execution_count": 341
        }
      ],
      "source": [
        "#Percentual de Mensagens positivos\n",
        "ptweets = analise[analise.Analise == 'Positivo']\n",
        "ptweets = ptweets['Mensagem']\n",
        "ptweets\n",
        "\n",
        "round( (ptweets.shape[0] / analise.shape[0]) * 100 , 1)"
      ]
    },
    {
      "cell_type": "code",
      "execution_count": null,
      "metadata": {
        "colab": {
          "base_uri": "https://localhost:8080/"
        },
        "id": "bk-aWYcrF9vc",
        "outputId": "50dfaa08-06ea-4233-b655-cefd81fb427b"
      },
      "outputs": [
        {
          "output_type": "execute_result",
          "data": {
            "text/plain": [
              "0.0"
            ]
          },
          "metadata": {},
          "execution_count": 342
        }
      ],
      "source": [
        "#Percentual de Mensagens Negativa\n",
        "ntweets = analise[analise.Analise == 'Negativo']\n",
        "ntweets = ntweets['Mensagem']\n",
        "ntweets\n",
        "\n",
        "round( (ntweets.shape[0] / analise.shape[0]) * 100, 1)"
      ]
    },
    {
      "cell_type": "code",
      "execution_count": null,
      "metadata": {
        "id": "uBSvPjujF_d0"
      },
      "outputs": [],
      "source": [
        "df = pd.DataFrame(analise['Analise'].value_counts())"
      ]
    },
    {
      "cell_type": "code",
      "execution_count": null,
      "metadata": {
        "id": "ThAFics2GBcS",
        "colab": {
          "base_uri": "https://localhost:8080/"
        },
        "outputId": "73fc9720-bda7-46a1-d6e4-fd92ff34364a"
      },
      "outputs": [
        {
          "output_type": "display_data",
          "data": {
            "text/plain": [
              "<Figure size 432x288 with 1 Axes>"
            ],
            "image/png": "[encoded data removed]"
          },
          "metadata": {
            "needs_background": "light"
          }
        }
      ],
      "source": [
        "plt.figure()\n",
        "ax = sns.barplot(x=df['Analise'], y=df.index, data=analise)\n",
        "ax.set_xlabel('Quantidade de Mensagem')\n",
        "ax.set_ylabel('Sentimento');\n",
        "\n",
        "plt.savefig('What-Gráfico Barra 01.png', format='png')\n",
        "plt.show()"
      ]
    },
    {
      "cell_type": "code",
      "execution_count": null,
      "metadata": {
        "id": "UCNtxMFZGDDM",
        "colab": {
          "base_uri": "https://localhost:8080/"
        },
        "outputId": "08b6f1a5-ad58-47e2-8fc5-bdb2cfd7df00"
      },
      "outputs": [
        {
          "output_type": "display_data",
          "data": {
            "text/plain": [
              "<Figure size 432x288 with 1 Axes>"
            ],
            "image/png": "[encoded data removed]"
          },
          "metadata": {
            "needs_background": "light"
          }
        }
      ],
      "source": [
        "ax = sns.barplot(x=df.index, y=df['Analise'],data=analise,label='Quantidade de Mensagens')\n",
        "ax.set_ylabel('Quantidade de Mensagens')\n",
        "ax.set_xlabel('Sentimento');\n",
        "plt.savefig('What-Gráfico Barra 02.png', format='png')\n",
        "plt.show()"
      ]
    }
  ]
}